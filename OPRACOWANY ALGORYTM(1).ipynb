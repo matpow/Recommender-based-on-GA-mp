{
 "cells": [
  {
   "cell_type": "code",
   "execution_count": null,
   "metadata": {},
   "outputs": [],
   "source": [
    "#      Procedura 1\n",
    "# testowanie na wygenerowanym zbiorze wyg.dane_aktywnosc\n",
    "#Glowna procedura\n",
    "#main()\n",
    "\n",
    "# Notation           Indication\n",
    "#indywiduum - wektor produktow na ktorych klient NIE dokonal aktywnosci\n",
    "#iniPop      -The initial population. Inicjalizujaca populacja ((indywidua) produkty na ktorych klient nie dokonal aktywnosci)\n",
    "#topX        -The percentage of individual that should be selected. (indywidua z najwiekszym wskaznikiem predykcji)\n",
    "#bestMem     -The topX of the fitter individuals.  (najlepsze indywidua)\n",
    "#CrossOverP  -The crossover probability. (wartosc parametur krzyzowki)\n",
    "#mutP        -The mutation probability.  (wartosc parametru mutacji)\n",
    "#recommendMem-The best individual that will be recommended its items to the active user. (rekomendacje - najlepsze indywiduum)\n",
    "#maxGan      -The maximum number of generations. (maksymalna liczba generacji)\n",
    "#currentGen  -The current generation.  (obecna generacja)\n",
    "#nextGen     -The following generation.  (nastepna generacja)\n",
    "#targetUser  -The active user.    (docelowy klient)\n",
    "#M           -The size of the population.    (rozmiar populacji)\n",
    "#N           -The number of items within the individual.   (liczba produktow w indywiduum)\n",
    "#Z           -An individual.    (indywiduum (inaczej osobnik w algorytmie genetycznym))\n",
    "#Selected    -The users who rated at least one item within an individual.\n",
    "\n",
    "\n",
    "#\n",
    "\n",
    "\n",
    "#1 Przygotowanie macierzy Klient-Produkt - wartosci macierzy =obliczenie wspolczynnika wg. wzoru (1) (zakup > dodanie do koszyka > wyswietlenie )\n",
    "#2 Przygotowanie macierzy Produkt-Kategoria\n",
    "#3 Wygenerowanie inicjalizujacej populacji ktora zawiera M indywiduów\n",
    "#    Obliczamy wartosc wspolczynnika zainteresowania ze wzoru nr.1 \n",
    "#4 For CurrentGen =/= maxGen\n",
    "    #obliczamy wartosc korelacji (correlation(z)) kazdego indywiduum w iniPop.\n",
    "    #Wybieramy najlepsze (topX) indywiduum(bestMem) na podstawie wartosci korelacji\n",
    "    #Ustalamy operator krzyzowki z prawdopodobienstwem = CrossOverP\n",
    "    #Ustaamy operator mutacji z prawdopodobienstwem = mutP\n",
    "    #obliczamy wartosc podobienstwa (Similarity(z)) kazdego indywiduum w populacji inicjalizujacej (iniPop)\n",
    "    #Wybieramy najlepsze (topX) indywidua (bestMem) na podstawie wartosci podobienstwa\n",
    "#End For\n",
    "#5 Obliczamy wskaznik prognozy(predykcji) (predict(z,x)) kazdego indywiduum w populacji iniPop\n",
    "#6 Wybieramy najlepsze indywiduum(recommendMem) w iniPop"
   ]
  },
  {
   "cell_type": "code",
   "execution_count": null,
   "metadata": {},
   "outputs": [],
   "source": [
    "#    zakladam takie wartosci parametrow\n",
    "#Parameter Value\n",
    "#topX       25%\n",
    "#CrossOverP 80%\n",
    "#mutP       20%\n",
    "#maxGen     100\n",
    "#M          50\n",
    "#N          10"
   ]
  },
  {
   "cell_type": "code",
   "execution_count": null,
   "metadata": {},
   "outputs": [],
   "source": [
    "#Procedura 2\n",
    "#initalPop()\n",
    "\n",
    "#1. Ustalamy produkty na ktorych klient dokonal aktywnosci\n",
    "#2. Generujemy M indywiduow zawierajacych N produktow na ktorych klient nie dokonal aktywnosci\n",
    "# indywiduum =  [Ia,Ib,Ic,Id,Ie,If,Ig,Ik] Ia,Ib,Ic,... - produkty"
   ]
  },
  {
   "cell_type": "code",
   "execution_count": null,
   "metadata": {},
   "outputs": [],
   "source": [
    "#Procedura 3\n",
    "#Korelacja(z)\n",
    "\n",
    "#1. Definiujemy kazdy produkt w z(indywiduum) poprzec wektor Vi = (vi1,vi2,...,vik) jezeli vi1 = 1 - produkt nalezy do kategorii 1, vi1=0 - nie nalezy\n",
    "#2. For i1 =/= N-1        /// N - liczba produktow w indywiduum(parametr)                                 \n",
    "        #For i2 =/=N\n",
    "            #Obliczamy korelacje pomiedzy i1 a i2 wg wzoru 3.(metryka jaccard)  / 𝑐𝑜𝑟𝑟(𝑝, 𝑞) =𝐶11/𝐶10 + 𝐶01 + 𝐶11    ///p,q - produkty -from sklearn.metrics import jaccard_similarity_score\n",
    "        #End For\n",
    "    #End For\n",
    "    #Obliczamy wartosc funkcji dopasowania z poprzez zsumowanie wartosci korelacji produktow wg wzoru 2.   /) 𝑐𝑜𝑟𝑟𝑒𝑙𝑎𝑡𝑖𝑜𝑛 𝑧 =E corr(p, q)(3)\n",
    "    "
   ]
  },
  {
   "cell_type": "code",
   "execution_count": null,
   "metadata": {},
   "outputs": [],
   "source": [
    "#Procedura 4\n",
    "#Podobienstwo(z)\n",
    "\n",
    "# Ustalalmy wszystkich klientow ktorzy dokonali aktywnosci na przynajmniej jednym produkcie w z (selectedU)\n",
    "# For size =/= size of selecetedU   \n",
    "#    u = selectedU(size)\n",
    "#    Obliczamy wartosc podobienstwa pomiedzy docelowym klientem (targetUser) a u wg wzoru.6 (korelacja pearsona)\n",
    "#    Obliczamy wartosc podobienstwa Jaccarda pomiedzy docelowym klientem a u wg wzoru 7.\n",
    "#    Normalizujemy wartosc podobienstwa pomiedzy docelowym klientem a u wg wzoru 5\n",
    "# End For\n",
    "\n",
    "#2.Obliczamy wartosc funkcji dopasowania z poprzez zsumowanie wartosci podobienstwa docelowago klienta\n",
    "#a klinetami ktorzy dokonali aktywnosci na przyjajmniej jednym produkcie w z wg. wzoru 4."
   ]
  },
  {
   "cell_type": "code",
   "execution_count": null,
   "metadata": {},
   "outputs": [],
   "source": [
    "#Procedura 5\n",
    "#Predykcja(bestMem)\n",
    "#1.For each z in bestMem\n",
    "#     For each i in z\n",
    "#        Prognozujemy wskaznik i dla docelowego klienta wg wzoru 9.\n",
    "#     End For\n",
    "#     Obliczamy wartosc funkcji dopasowania z poprzez zsumowanie wskaznika predykcji produktow wg wzoru 9.\n",
    "#  End For\n",
    "#2.Wybieramy najlepsze indywiduum(recommendMem) na podstawie wartosci funkcji dopasowania z bestMem"
   ]
  },
  {
   "cell_type": "code",
   "execution_count": 41,
   "metadata": {},
   "outputs": [
    {
     "data": {
      "text/plain": [
       "array([36, 38, 39, 40, 42, 44, 46, 50, 53, 54, 57, 59, 60])"
      ]
     },
     "execution_count": 41,
     "metadata": {},
     "output_type": "execute_result"
    }
   ],
   "source": [
    "#procedura 2 - initialPop()\n",
    "import pandas as pd\n",
    "import numpy as np\n",
    "\n",
    "dane = pd.read_csv('C:\\\\Users\\\\mateusz\\\\Desktop\\\\wyg.dane_aktywnosc.csv')\n",
    "ramkadanych = pd.DataFrame(np.zeros(shape=(80,264)),\n",
    "                             columns=dane['produktid'].unique(),\n",
    "                             index=dane['klientid'].unique())\n",
    "ramkadanych.head(15)\n",
    "dane = dane.groupby(['klientid', 'produktid'])['zdarzenie'].sum().reset_index()\n",
    "danedf = pd.DataFrame(dane, columns = ['klientid','produktid','zdarzenie'],dtype = int)\n",
    "Ramkad = danedf.pivot(index = 'klientid', columns ='produktid', values = 'zdarzenie').fillna(0)\n",
    "Ramkad.head(15)\n",
    "\n",
    "def iniPopWys(rd,idklienta):\n",
    "    targetUser = rd.loc[:,rd.loc[idklienta] != 0].columns\n",
    "    return targetUser\n",
    "iniPopWys(Ramkad,12)\n",
    "\n",
    "def initialPop(rd,idklienta):\n",
    "    targetUser = rd.loc[:,rd.loc[idklienta] == 0].columns\n",
    "    \n",
    "    return targetUser\n",
    "\n",
    "ram = initialPop(Ramkad,12)\n",
    "ls1 = list(ram)\n",
    "ls1 # wszystkie produkty na ktorych klient nie dokonal aktywnosci , zapisane w liscie\n",
    "#teraz nalezy stworzyc N indywiduow , (dzielac liste na N(przyjalem =10) list)\n",
    "x = range(20) \n",
    "l = np.array_split(np.array(ls1),20)  #jakos tak\n",
    "l\n",
    "l[1]"
   ]
  },
  {
   "cell_type": "code",
   "execution_count": 122,
   "metadata": {},
   "outputs": [
    {
     "data": {
      "text/plain": [
       "array([[1.       , 0.1490712],\n",
       "       [0.1490712, 1.       ]])"
      ]
     },
     "execution_count": 122,
     "metadata": {},
     "output_type": "execute_result"
    }
   ],
   "source": [
    "#procedura 3 - korelacjaZ()\n",
    "#obliczanie korelacji miedzy produktami\n",
    "#zapisujemy kazdy produkt w indywiduum jako wektor() np. v1 - (1,0,1,...) - produkt 1 nalezy do kategori 1,3 itd.\n",
    "#obliczamy korelacje miedzy produktami np. i1 i i2  - uzywajac metryki binarnej Jaccarda - from sklearn.metrics import jaccard_similarity_score\n",
    "#obliczamy wartosc funkcji dopasowania sumujac wartosc korelacji produktow\n",
    "from scipy.stats import pearsonr\n",
    "import seaborn\n",
    "kategorie = pd.read_csv('C:\\\\Users\\\\mateusz\\\\Desktop\\\\wyg.dane_kategorie.csv')\n",
    "kategorie.head(15)\n",
    "katvec = kategorie.values\n",
    "katvec[1]\n",
    "k1 = np.delete(katvec[1],0)\n",
    "k2 = np.delete(katvec[2],0)\n",
    "k1.astype(float)\n",
    "k2.astype(float)\n",
    "np.corrcoef(k1.astype(float),k2.astype(float))"
   ]
  },
  {
   "cell_type": "code",
   "execution_count": 97,
   "metadata": {},
   "outputs": [],
   "source": [
    "#procedura 3\n",
    "#ustalamy wszystkich klientow ktorzy dokonali aktywnosci na przynajmniej jednym produkcie w Z(wybrane indywiduum)"
   ]
  },
  {
   "cell_type": "code",
   "execution_count": null,
   "metadata": {},
   "outputs": [],
   "source": []
  }
 ],
 "metadata": {
  "kernelspec": {
   "display_name": "Python 3",
   "language": "python",
   "name": "python3"
  },
  "language_info": {
   "codemirror_mode": {
    "name": "ipython",
    "version": 3
   },
   "file_extension": ".py",
   "mimetype": "text/x-python",
   "name": "python",
   "nbconvert_exporter": "python",
   "pygments_lexer": "ipython3",
   "version": "3.6.4"
  }
 },
 "nbformat": 4,
 "nbformat_minor": 2
}
