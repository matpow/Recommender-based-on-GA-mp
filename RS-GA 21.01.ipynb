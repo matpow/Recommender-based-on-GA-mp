{
 "cells": [
  {
   "cell_type": "code",
   "execution_count": 1,
   "metadata": {},
   "outputs": [],
   "source": [
    "import random\n",
    "import numpy as np\n",
    "import pandas as pd\n",
    "\n",
    "\n",
    "dane = pd.read_csv('C:\\\\Users\\\\mateusz\\\\Desktop\\\\wyg.dane_aktywnosc.csv')\n",
    "ramkadanych = pd.DataFrame(np.zeros(shape=(80,264)),\n",
    "                             columns=dane['produktid'].unique(),\n",
    "                             index=dane['klientid'].unique())\n",
    "ramkadanych.head(15)\n",
    "dane = dane.groupby(['klientid', 'produktid'])['zdarzenie'].sum().reset_index()\n",
    "danedf = pd.DataFrame(dane, columns = ['klientid','produktid','zdarzenie'],dtype = int)\n",
    "Ramkad = danedf.pivot(index = 'klientid', columns ='produktid', values = 'zdarzenie').fillna(0)\n",
    "Ramkad.head(15)\n",
    "\n",
    "kategorie = pd.read_csv('C:\\\\Users\\\\mateusz\\\\Desktop\\\\wyg.dane_kategorie.csv')\n",
    "kategorie.head(15)\n",
    "katvec = kategorie.values\n",
    "katvec[1]\n",
    "k1 = np.delete(katvec[1],0)\n",
    "k2 = np.delete(katvec[2],0)\n",
    "\n",
    "\n",
    "def create_reference_solution(chromosome_length):\n",
    "\n",
    "    number_of_ones = int(chromosome_length / 2)\n",
    "\n",
    "    # Build an array with an equal mix of zero and ones\n",
    "    reference = np.zeros(chromosome_length)\n",
    "    #reference[0: number_of_ones] = 1\n",
    "\n",
    "    # Shuffle the array to mix the zeros and ones\n",
    "    np.random.shuffle(reference)\n",
    "    \n",
    "    return reference"
   ]
  },
  {
   "cell_type": "code",
   "execution_count": 2,
   "metadata": {},
   "outputs": [],
   "source": [
    "def create_starting_population(individuals, chromosome_length):\n",
    "    # Set up an initial array of all zeros\n",
    "    population = np.zeros((individuals, chromosome_length))\n",
    "    \n",
    "    # Loop through each row (individual)\n",
    "    for i in range(individuals):\n",
    "        # Choose a random number of ones to create\n",
    "        ones = random.randint(0, chromosome_length)\n",
    "        # Change the required number of zeros to ones\n",
    "        population[i, 0:ones] = 1\n",
    "        # Sfuffle row\n",
    "        np.random.shuffle(population[i])\n",
    "    \n",
    "    return population\n",
    "\n",
    "def create_starting_population2(individuals, chromosome_length):\n",
    "    # Set up an initial array of all zeros\n",
    "    population = np.zeros((individuals, chromosome_length))\n",
    "    \n",
    "    # Loop through each row (individual)\n",
    "    for i in range(individuals):\n",
    "        # Choose a random number of ones to create\n",
    "        ones = random.randint(4, chromosome_length)\n",
    "        # Change the required number of zeros to ones\n",
    "        population[i, 0:ones] = 5\n",
    "        # Sfuffle row\n",
    "        np.random.shuffle(population[i])\n",
    "    \n",
    "    return population"
   ]
  },
  {
   "cell_type": "code",
   "execution_count": 5,
   "metadata": {},
   "outputs": [],
   "source": [
    "ind1 =create_starting_population(10, 10)\n",
    "#pop\n",
    "#pop[1][1]\n",
    "ind2 = create_starting_population(10, 10)"
   ]
  },
  {
   "cell_type": "code",
   "execution_count": 17,
   "metadata": {},
   "outputs": [
    {
     "name": "stdout",
     "output_type": "stream",
     "text": [
      "[ 1  2  3  6 11 12 16 18 23 26 28 29 32]\n",
      "[36 38 39 40 42 44 46 50 53 54 57 59 60]\n"
     ]
    }
   ],
   "source": [
    "def iniPopWys(rd,idklienta):\n",
    "    targetUser = rd.loc[:,rd.loc[idklienta] != 0].columns\n",
    "    return targetUser\n",
    "iniPopWys(Ramkad,12)\n",
    "\n",
    "def initialPop(rd,idklienta):\n",
    "    targetUser = rd.loc[:,rd.loc[idklienta] == 0].columns\n",
    "    \n",
    "    return targetUser\n",
    "\n",
    "ram = initialPop(Ramkad,12)\n",
    "ls1 = list(ram)\n",
    "ls1 # wszystkie produkty na ktorych klient nie dokonal aktywnosci , zapisane w liscie\n",
    "#teraz nalezy stworzyc N indywiduow , (dzielac liste na N(przyjalem =10) list)\n",
    "x = range(20) \n",
    "l = np.array_split(np.array(ls1),20)  #jakos tak\n",
    "l\n",
    "print(l[0])\n",
    "print(l[1])"
   ]
  },
  {
   "cell_type": "code",
   "execution_count": 23,
   "metadata": {},
   "outputs": [
    {
     "name": "stdout",
     "output_type": "stream",
     "text": [
      "50.000000000000014\n"
     ]
    },
    {
     "ename": "ValueError",
     "evalue": "Found input variables with inconsistent numbers of samples: [12, 13]",
     "output_type": "error",
     "traceback": [
      "\u001b[1;31m---------------------------------------------------------------------------\u001b[0m",
      "\u001b[1;31mValueError\u001b[0m                                Traceback (most recent call last)",
      "\u001b[1;32m<ipython-input-23-b2d8d72176f0>\u001b[0m in \u001b[0;36m<module>\u001b[1;34m()\u001b[0m\n\u001b[0;32m     13\u001b[0m     \u001b[1;32mreturn\u001b[0m \u001b[0msum\u001b[0m\u001b[1;33m(\u001b[0m\u001b[0mkorelacja\u001b[0m\u001b[1;33m)\u001b[0m\u001b[1;33m\u001b[0m\u001b[0m\n\u001b[0;32m     14\u001b[0m \u001b[0mprint\u001b[0m\u001b[1;33m(\u001b[0m\u001b[0mKorelacjaZ\u001b[0m\u001b[1;33m(\u001b[0m\u001b[0mind2\u001b[0m\u001b[1;33m)\u001b[0m\u001b[1;33m)\u001b[0m\u001b[1;33m\u001b[0m\u001b[0m\n\u001b[1;32m---> 15\u001b[1;33m \u001b[0mprint\u001b[0m\u001b[1;33m(\u001b[0m\u001b[0mKorelacjaZ\u001b[0m\u001b[1;33m(\u001b[0m\u001b[0ml\u001b[0m\u001b[1;33m)\u001b[0m\u001b[1;33m)\u001b[0m\u001b[1;33m\u001b[0m\u001b[0m\n\u001b[0m",
      "\u001b[1;32m<ipython-input-23-b2d8d72176f0>\u001b[0m in \u001b[0;36mKorelacjaZ\u001b[1;34m(ind)\u001b[0m\n\u001b[0;32m      9\u001b[0m     \u001b[1;32mfor\u001b[0m \u001b[0mx\u001b[0m \u001b[1;32min\u001b[0m \u001b[0mrange\u001b[0m\u001b[1;33m(\u001b[0m\u001b[0mlen\u001b[0m\u001b[1;33m(\u001b[0m\u001b[0mind\u001b[0m\u001b[1;33m)\u001b[0m\u001b[1;33m-\u001b[0m\u001b[1;36m1\u001b[0m\u001b[1;33m)\u001b[0m\u001b[1;33m:\u001b[0m\u001b[1;33m\u001b[0m\u001b[0m\n\u001b[0;32m     10\u001b[0m         \u001b[1;32mfor\u001b[0m \u001b[0my\u001b[0m \u001b[1;32min\u001b[0m \u001b[0mrange\u001b[0m\u001b[1;33m(\u001b[0m\u001b[0mlen\u001b[0m\u001b[1;33m(\u001b[0m\u001b[0mind\u001b[0m\u001b[1;33m)\u001b[0m\u001b[1;33m)\u001b[0m\u001b[1;33m:\u001b[0m\u001b[1;33m\u001b[0m\u001b[0m\n\u001b[1;32m---> 11\u001b[1;33m             \u001b[0mkorelacja\u001b[0m\u001b[1;33m.\u001b[0m\u001b[0mappend\u001b[0m\u001b[1;33m(\u001b[0m\u001b[0mjaccard_similarity_score\u001b[0m\u001b[1;33m(\u001b[0m\u001b[0mind\u001b[0m\u001b[1;33m[\u001b[0m\u001b[0mx\u001b[0m\u001b[1;33m-\u001b[0m\u001b[1;36m1\u001b[0m\u001b[1;33m]\u001b[0m\u001b[1;33m,\u001b[0m\u001b[0mind\u001b[0m\u001b[1;33m[\u001b[0m\u001b[0my\u001b[0m\u001b[1;33m]\u001b[0m\u001b[1;33m)\u001b[0m\u001b[1;33m)\u001b[0m\u001b[1;33m\u001b[0m\u001b[0m\n\u001b[0m\u001b[0;32m     12\u001b[0m \u001b[1;33m\u001b[0m\u001b[0m\n\u001b[0;32m     13\u001b[0m     \u001b[1;32mreturn\u001b[0m \u001b[0msum\u001b[0m\u001b[1;33m(\u001b[0m\u001b[0mkorelacja\u001b[0m\u001b[1;33m)\u001b[0m\u001b[1;33m\u001b[0m\u001b[0m\n",
      "\u001b[1;32mC:\\Program Files (x86)\\Microsoft Visual Studio\\Shared\\Anaconda3_64\\lib\\site-packages\\sklearn\\metrics\\classification.py\u001b[0m in \u001b[0;36mjaccard_similarity_score\u001b[1;34m(y_true, y_pred, normalize, sample_weight)\u001b[0m\n\u001b[0;32m    444\u001b[0m \u001b[1;33m\u001b[0m\u001b[0m\n\u001b[0;32m    445\u001b[0m     \u001b[1;31m# Compute accuracy for each possible representation\u001b[0m\u001b[1;33m\u001b[0m\u001b[1;33m\u001b[0m\u001b[0m\n\u001b[1;32m--> 446\u001b[1;33m     \u001b[0my_type\u001b[0m\u001b[1;33m,\u001b[0m \u001b[0my_true\u001b[0m\u001b[1;33m,\u001b[0m \u001b[0my_pred\u001b[0m \u001b[1;33m=\u001b[0m \u001b[0m_check_targets\u001b[0m\u001b[1;33m(\u001b[0m\u001b[0my_true\u001b[0m\u001b[1;33m,\u001b[0m \u001b[0my_pred\u001b[0m\u001b[1;33m)\u001b[0m\u001b[1;33m\u001b[0m\u001b[0m\n\u001b[0m\u001b[0;32m    447\u001b[0m     \u001b[1;32mif\u001b[0m \u001b[0my_type\u001b[0m\u001b[1;33m.\u001b[0m\u001b[0mstartswith\u001b[0m\u001b[1;33m(\u001b[0m\u001b[1;34m'multilabel'\u001b[0m\u001b[1;33m)\u001b[0m\u001b[1;33m:\u001b[0m\u001b[1;33m\u001b[0m\u001b[0m\n\u001b[0;32m    448\u001b[0m         \u001b[1;32mwith\u001b[0m \u001b[0mnp\u001b[0m\u001b[1;33m.\u001b[0m\u001b[0merrstate\u001b[0m\u001b[1;33m(\u001b[0m\u001b[0mdivide\u001b[0m\u001b[1;33m=\u001b[0m\u001b[1;34m'ignore'\u001b[0m\u001b[1;33m,\u001b[0m \u001b[0minvalid\u001b[0m\u001b[1;33m=\u001b[0m\u001b[1;34m'ignore'\u001b[0m\u001b[1;33m)\u001b[0m\u001b[1;33m:\u001b[0m\u001b[1;33m\u001b[0m\u001b[0m\n",
      "\u001b[1;32mC:\\Program Files (x86)\\Microsoft Visual Studio\\Shared\\Anaconda3_64\\lib\\site-packages\\sklearn\\metrics\\classification.py\u001b[0m in \u001b[0;36m_check_targets\u001b[1;34m(y_true, y_pred)\u001b[0m\n\u001b[0;32m     69\u001b[0m     \u001b[0my_pred\u001b[0m \u001b[1;33m:\u001b[0m \u001b[0marray\u001b[0m \u001b[1;32mor\u001b[0m \u001b[0mindicator\u001b[0m \u001b[0mmatrix\u001b[0m\u001b[1;33m\u001b[0m\u001b[0m\n\u001b[0;32m     70\u001b[0m     \"\"\"\n\u001b[1;32m---> 71\u001b[1;33m     \u001b[0mcheck_consistent_length\u001b[0m\u001b[1;33m(\u001b[0m\u001b[0my_true\u001b[0m\u001b[1;33m,\u001b[0m \u001b[0my_pred\u001b[0m\u001b[1;33m)\u001b[0m\u001b[1;33m\u001b[0m\u001b[0m\n\u001b[0m\u001b[0;32m     72\u001b[0m     \u001b[0mtype_true\u001b[0m \u001b[1;33m=\u001b[0m \u001b[0mtype_of_target\u001b[0m\u001b[1;33m(\u001b[0m\u001b[0my_true\u001b[0m\u001b[1;33m)\u001b[0m\u001b[1;33m\u001b[0m\u001b[0m\n\u001b[0;32m     73\u001b[0m     \u001b[0mtype_pred\u001b[0m \u001b[1;33m=\u001b[0m \u001b[0mtype_of_target\u001b[0m\u001b[1;33m(\u001b[0m\u001b[0my_pred\u001b[0m\u001b[1;33m)\u001b[0m\u001b[1;33m\u001b[0m\u001b[0m\n",
      "\u001b[1;32mC:\\Program Files (x86)\\Microsoft Visual Studio\\Shared\\Anaconda3_64\\lib\\site-packages\\sklearn\\utils\\validation.py\u001b[0m in \u001b[0;36mcheck_consistent_length\u001b[1;34m(*arrays)\u001b[0m\n\u001b[0;32m    202\u001b[0m     \u001b[1;32mif\u001b[0m \u001b[0mlen\u001b[0m\u001b[1;33m(\u001b[0m\u001b[0muniques\u001b[0m\u001b[1;33m)\u001b[0m \u001b[1;33m>\u001b[0m \u001b[1;36m1\u001b[0m\u001b[1;33m:\u001b[0m\u001b[1;33m\u001b[0m\u001b[0m\n\u001b[0;32m    203\u001b[0m         raise ValueError(\"Found input variables with inconsistent numbers of\"\n\u001b[1;32m--> 204\u001b[1;33m                          \" samples: %r\" % [int(l) for l in lengths])\n\u001b[0m\u001b[0;32m    205\u001b[0m \u001b[1;33m\u001b[0m\u001b[0m\n\u001b[0;32m    206\u001b[0m \u001b[1;33m\u001b[0m\u001b[0m\n",
      "\u001b[1;31mValueError\u001b[0m: Found input variables with inconsistent numbers of samples: [12, 13]"
     ]
    }
   ],
   "source": [
    "import math\n",
    "from sklearn.metrics import jaccard_similarity_score\n",
    "from scipy.spatial import distance\n",
    "from scipy.stats.stats import pearsonr\n",
    "#proc3. KorelacjaZ\n",
    "def KorelacjaZ(ind):\n",
    "    korelacja = []\n",
    "    \n",
    "    for x in range(len(ind)-1):\n",
    "        for y in range(len(ind)):       \n",
    "            korelacja.append(jaccard_similarity_score(ind[x-1],ind[y]))\n",
    "        \n",
    "    return sum(korelacja)\n",
    "print(KorelacjaZ(ind2))\n",
    "print(KorelacjaZ(l))"
   ]
  },
  {
   "cell_type": "code",
   "execution_count": 7,
   "metadata": {},
   "outputs": [
    {
     "data": {
      "text/plain": [
       "array([ 1,  2,  3,  6, 11, 12, 16, 18, 23, 26, 28, 29, 32])"
      ]
     },
     "execution_count": 7,
     "metadata": {},
     "output_type": "execute_result"
    }
   ],
   "source": [
    "def iniPopWys(rd,idklienta):\n",
    "    targetUser = rd.loc[:,rd.loc[idklienta] != 0].columns\n",
    "    return targetUser\n",
    "iniPopWys(Ramkad,12)\n",
    "\n",
    "def initialPop(rd,idklienta):\n",
    "    targetUser = rd.loc[:,rd.loc[idklienta] == 0].columns\n",
    "    \n",
    "    return targetUser\n",
    "\n",
    "ram = initialPop(Ramkad,12)\n",
    "ls1 = list(ram)\n",
    "ls1 # wszystkie produkty na ktorych klient nie dokonal aktywnosci , zapisane w liscie\n",
    "#teraz nalezy stworzyc N indywiduow , (dzielac liste na N(przyjalem =10) list)\n",
    "x = range(20) \n",
    "l = np.array_split(np.array(ls1),20)  #jakos tak\n",
    "l\n",
    "l[0]"
   ]
  },
  {
   "cell_type": "code",
   "execution_count": 8,
   "metadata": {},
   "outputs": [
    {
     "data": {
      "text/plain": [
       "[array([ 1,  2,  3,  6, 11, 12, 16, 18, 23, 26, 28, 29, 32]),\n",
       " array([36, 38, 39, 40, 42, 44, 46, 50, 53, 54, 57, 59, 60]),\n",
       " array([64, 67, 72, 74, 75, 81, 83, 84, 86, 89, 91, 92, 94]),\n",
       " array([ 97,  98,  99, 100, 102, 103, 104, 105, 106, 107, 110, 111, 112]),\n",
       " array([113, 117, 119, 121, 122, 123, 124, 126, 129, 130, 131, 132, 133]),\n",
       " array([134, 137, 140, 141, 143, 144, 145, 150, 152, 155, 156, 157, 158]),\n",
       " array([160, 161, 162, 163, 164, 165, 166, 168, 169, 170, 171, 172, 173]),\n",
       " array([175, 176, 178, 180, 181, 182, 184, 186, 188, 189, 190, 192, 195]),\n",
       " array([196, 197, 200, 202, 203, 204, 211, 212, 217, 218, 220, 221, 222]),\n",
       " array([224, 225, 228, 229, 230, 231, 233, 236, 237, 238, 239, 240, 241]),\n",
       " array([244, 246, 248, 251, 252, 255, 256, 258, 259, 260, 261, 262, 263]),\n",
       " array([264, 269, 270, 274, 275, 277, 279, 280, 282, 284, 286, 289, 290]),\n",
       " array([294, 297, 298, 299, 300, 301, 303, 305, 306, 307, 310, 312, 313]),\n",
       " array([314, 317, 319, 321, 323, 324, 325, 327, 329, 330, 331, 335, 338]),\n",
       " array([340, 341, 347, 355, 356, 357, 358, 363, 364, 365, 368, 369, 375]),\n",
       " array([377, 379, 381, 384, 391, 393, 397, 398, 399, 400, 401, 404, 405]),\n",
       " array([406, 407, 409, 412, 414, 417, 418, 419, 422, 424, 428, 430]),\n",
       " array([431, 432, 436, 441, 442, 444, 445, 447, 448, 452, 453, 454]),\n",
       " array([455, 456, 457, 458, 459, 462, 463, 464, 465, 467, 468, 470]),\n",
       " array([472, 473, 475, 476, 477, 479, 480, 489, 492, 493, 496, 499])]"
      ]
     },
     "execution_count": 8,
     "metadata": {},
     "output_type": "execute_result"
    }
   ],
   "source": [
    "listoflists =[]\n",
    "listoflists.append((l[:], l[0]))\n",
    "l\n"
   ]
  },
  {
   "cell_type": "code",
   "execution_count": 9,
   "metadata": {},
   "outputs": [],
   "source": [
    "def iniPopWys(rd,idklienta):\n",
    "    targetUser = rd.loc[:,rd.loc[idklienta] != 0].columns\n",
    "    return targetUser\n",
    "iniPopWys(Ramkad,12)\n",
    "\n",
    "def initialPop(rd,idklienta):\n",
    "    targetUser = rd.loc[:,rd.loc[idklienta] == 0].columns\n",
    "    \n",
    "    return targetUser"
   ]
  },
  {
   "cell_type": "code",
   "execution_count": 11,
   "metadata": {},
   "outputs": [
    {
     "data": {
      "text/plain": [
       "numpy.ndarray"
      ]
     },
     "execution_count": 11,
     "metadata": {},
     "output_type": "execute_result"
    }
   ],
   "source": [
    "AllUsers = []\n",
    "for x in range(len(Ramkad.index)):    \n",
    "    AllUsers.append(iniPopWys(Ramkad,x+1))\n",
    "\n",
    "type(l[1])"
   ]
  },
  {
   "cell_type": "code",
   "execution_count": 12,
   "metadata": {},
   "outputs": [
    {
     "name": "stdout",
     "output_type": "stream",
     "text": [
      "[ 1  2  3  6 11 12 16 18 23 26 28 29 32]\n"
     ]
    },
    {
     "data": {
      "text/plain": [
       "[Int64Index([2, 72, 113, 145, 163, 176, 280, 305, 329, 330, 358, 364, 379, 447,\n",
       "             470],\n",
       "            dtype='int64', name='produktid'),\n",
       " Int64Index([6, 67, 164, 181, 260, 493], dtype='int64', name='produktid'),\n",
       " Int64Index([3, 107, 133, 196, 489], dtype='int64', name='produktid'),\n",
       " Int64Index([11, 12, 28, 126, 158, 297, 300, 303, 391], dtype='int64', name='produktid'),\n",
       " Int64Index([16, 18, 104, 107, 134, 144, 211, 248, 306, 381, 418, 442], dtype='int64', name='produktid'),\n",
       " Int64Index([ 23, 132, 156, 160, 178, 189, 222, 252, 277, 310, 340, 347, 405,\n",
       "             431, 441, 445, 472, 492],\n",
       "            dtype='int64', name='produktid'),\n",
       " Int64Index([12, 110, 200, 221], dtype='int64', name='produktid'),\n",
       " Int64Index([3, 176, 252, 263, 363], dtype='int64', name='produktid'),\n",
       " Int64Index([26, 228, 231], dtype='int64', name='produktid'),\n",
       " Int64Index([29, 356, 475], dtype='int64', name='produktid'),\n",
       " Int64Index([16, 39, 40, 121, 161, 453, 470], dtype='int64', name='produktid'),\n",
       " Int64Index([29, 57, 401, 459, 489], dtype='int64', name='produktid'),\n",
       " Int64Index([32, 94, 229, 393, 428], dtype='int64', name='produktid'),\n",
       " Int64Index([28, 107, 117, 123, 171, 173, 182, 239, 241, 412], dtype='int64', name='produktid'),\n",
       " Int64Index([1, 74, 169, 224, 298], dtype='int64', name='produktid'),\n",
       " Int64Index([11, 158, 365, 397, 455, 457, 477], dtype='int64', name='produktid')]"
      ]
     },
     "execution_count": 12,
     "metadata": {},
     "output_type": "execute_result"
    }
   ],
   "source": [
    "# l[1]\n",
    "\n",
    "selectedU = []\n",
    "for x in range(len(AllUsers)):\n",
    "    result = np.in1d(AllUsers[x],l[0]).any()\n",
    "    if result==True:\n",
    "        selectedU.append(AllUsers[x])\n",
    "print(l[0])\n",
    "selectedU"
   ]
  },
  {
   "cell_type": "code",
   "execution_count": 25,
   "metadata": {},
   "outputs": [],
   "source": [
    "targetUser = iniPopWys(Ramkad,3)"
   ]
  },
  {
   "cell_type": "code",
   "execution_count": 26,
   "metadata": {},
   "outputs": [
    {
     "ename": "ValueError",
     "evalue": "all the input array dimensions except for the concatenation axis must match exactly",
     "output_type": "error",
     "traceback": [
      "\u001b[1;31m---------------------------------------------------------------------------\u001b[0m",
      "\u001b[1;31mValueError\u001b[0m                                Traceback (most recent call last)",
      "\u001b[1;32m<ipython-input-26-bf8bb66d5bdf>\u001b[0m in \u001b[0;36m<module>\u001b[1;34m()\u001b[0m\n\u001b[0;32m     27\u001b[0m     \u001b[1;32mreturn\u001b[0m \u001b[0msum\u001b[0m\u001b[1;33m(\u001b[0m\u001b[0mnormalizacja\u001b[0m\u001b[1;33m)\u001b[0m\u001b[1;33m\u001b[0m\u001b[0m\n\u001b[0;32m     28\u001b[0m \u001b[1;33m\u001b[0m\u001b[0m\n\u001b[1;32m---> 29\u001b[1;33m \u001b[0mPodobienstwo\u001b[0m\u001b[1;33m(\u001b[0m\u001b[0mtargetUser\u001b[0m\u001b[1;33m,\u001b[0m\u001b[0mselectedU\u001b[0m\u001b[1;33m)\u001b[0m\u001b[1;33m\u001b[0m\u001b[0m\n\u001b[0m",
      "\u001b[1;32m<ipython-input-26-bf8bb66d5bdf>\u001b[0m in \u001b[0;36mPodobienstwo\u001b[1;34m(docelowy, wybranyKlient)\u001b[0m\n\u001b[0;32m     20\u001b[0m     \u001b[1;32mfor\u001b[0m \u001b[0mx\u001b[0m \u001b[1;32min\u001b[0m \u001b[0mrange\u001b[0m\u001b[1;33m(\u001b[0m\u001b[0mlen\u001b[0m\u001b[1;33m(\u001b[0m\u001b[0mwybranyKlient\u001b[0m\u001b[1;33m)\u001b[0m\u001b[1;33m)\u001b[0m\u001b[1;33m:\u001b[0m\u001b[1;33m\u001b[0m\u001b[0m\n\u001b[0;32m     21\u001b[0m         \u001b[0mu\u001b[0m \u001b[1;33m=\u001b[0m \u001b[0mwybranyKlient\u001b[0m\u001b[1;33m[\u001b[0m\u001b[0mx\u001b[0m\u001b[1;33m-\u001b[0m\u001b[1;36m1\u001b[0m\u001b[1;33m]\u001b[0m\u001b[1;33m\u001b[0m\u001b[0m\n\u001b[1;32m---> 22\u001b[1;33m         \u001b[0mw1\u001b[0m \u001b[1;33m=\u001b[0m \u001b[0mnp\u001b[0m\u001b[1;33m.\u001b[0m\u001b[0mcorrcoef\u001b[0m\u001b[1;33m(\u001b[0m\u001b[0mdocelowy\u001b[0m\u001b[1;33m,\u001b[0m\u001b[0mwybranyKlient\u001b[0m\u001b[1;33m)\u001b[0m\u001b[1;33m[\u001b[0m\u001b[1;36m0\u001b[0m\u001b[1;33m,\u001b[0m \u001b[1;36m1\u001b[0m\u001b[1;33m]\u001b[0m\u001b[1;33m\u001b[0m\u001b[0m\n\u001b[0m\u001b[0;32m     23\u001b[0m         \u001b[0mw2\u001b[0m \u001b[1;33m=\u001b[0m \u001b[0mjaccard_similarity_score\u001b[0m\u001b[1;33m(\u001b[0m\u001b[0mdocelowy\u001b[0m\u001b[1;33m,\u001b[0m\u001b[0mu\u001b[0m\u001b[1;33m)\u001b[0m\u001b[1;33m[\u001b[0m\u001b[1;36m0\u001b[0m\u001b[1;33m]\u001b[0m\u001b[1;33m[\u001b[0m\u001b[1;36m1\u001b[0m\u001b[1;33m]\u001b[0m\u001b[1;33m\u001b[0m\u001b[0m\n\u001b[0;32m     24\u001b[0m         \u001b[0mnorm\u001b[0m \u001b[1;33m=\u001b[0m \u001b[1;33m(\u001b[0m\u001b[0mw1\u001b[0m\u001b[1;33m*\u001b[0m\u001b[0mw2\u001b[0m\u001b[1;33m)\u001b[0m\u001b[1;33m\u001b[0m\u001b[0m\n",
      "\u001b[1;32mC:\\Program Files (x86)\\Microsoft Visual Studio\\Shared\\Anaconda3_64\\lib\\site-packages\\numpy\\lib\\function_base.py\u001b[0m in \u001b[0;36mcorrcoef\u001b[1;34m(x, y, rowvar, bias, ddof)\u001b[0m\n\u001b[0;32m   3173\u001b[0m         warnings.warn('bias and ddof have no effect and are deprecated',\n\u001b[0;32m   3174\u001b[0m                       DeprecationWarning, stacklevel=2)\n\u001b[1;32m-> 3175\u001b[1;33m     \u001b[0mc\u001b[0m \u001b[1;33m=\u001b[0m \u001b[0mcov\u001b[0m\u001b[1;33m(\u001b[0m\u001b[0mx\u001b[0m\u001b[1;33m,\u001b[0m \u001b[0my\u001b[0m\u001b[1;33m,\u001b[0m \u001b[0mrowvar\u001b[0m\u001b[1;33m)\u001b[0m\u001b[1;33m\u001b[0m\u001b[0m\n\u001b[0m\u001b[0;32m   3176\u001b[0m     \u001b[1;32mtry\u001b[0m\u001b[1;33m:\u001b[0m\u001b[1;33m\u001b[0m\u001b[0m\n\u001b[0;32m   3177\u001b[0m         \u001b[0md\u001b[0m \u001b[1;33m=\u001b[0m \u001b[0mdiag\u001b[0m\u001b[1;33m(\u001b[0m\u001b[0mc\u001b[0m\u001b[1;33m)\u001b[0m\u001b[1;33m\u001b[0m\u001b[0m\n",
      "\u001b[1;32mC:\\Program Files (x86)\\Microsoft Visual Studio\\Shared\\Anaconda3_64\\lib\\site-packages\\numpy\\lib\\function_base.py\u001b[0m in \u001b[0;36mcov\u001b[1;34m(m, y, rowvar, bias, ddof, fweights, aweights)\u001b[0m\n\u001b[0;32m   3042\u001b[0m         \u001b[1;32mif\u001b[0m \u001b[1;32mnot\u001b[0m \u001b[0mrowvar\u001b[0m \u001b[1;32mand\u001b[0m \u001b[0my\u001b[0m\u001b[1;33m.\u001b[0m\u001b[0mshape\u001b[0m\u001b[1;33m[\u001b[0m\u001b[1;36m0\u001b[0m\u001b[1;33m]\u001b[0m \u001b[1;33m!=\u001b[0m \u001b[1;36m1\u001b[0m\u001b[1;33m:\u001b[0m\u001b[1;33m\u001b[0m\u001b[0m\n\u001b[0;32m   3043\u001b[0m             \u001b[0my\u001b[0m \u001b[1;33m=\u001b[0m \u001b[0my\u001b[0m\u001b[1;33m.\u001b[0m\u001b[0mT\u001b[0m\u001b[1;33m\u001b[0m\u001b[0m\n\u001b[1;32m-> 3044\u001b[1;33m         \u001b[0mX\u001b[0m \u001b[1;33m=\u001b[0m \u001b[0mnp\u001b[0m\u001b[1;33m.\u001b[0m\u001b[0mconcatenate\u001b[0m\u001b[1;33m(\u001b[0m\u001b[1;33m(\u001b[0m\u001b[0mX\u001b[0m\u001b[1;33m,\u001b[0m \u001b[0my\u001b[0m\u001b[1;33m)\u001b[0m\u001b[1;33m,\u001b[0m \u001b[0maxis\u001b[0m\u001b[1;33m=\u001b[0m\u001b[1;36m0\u001b[0m\u001b[1;33m)\u001b[0m\u001b[1;33m\u001b[0m\u001b[0m\n\u001b[0m\u001b[0;32m   3045\u001b[0m \u001b[1;33m\u001b[0m\u001b[0m\n\u001b[0;32m   3046\u001b[0m     \u001b[1;32mif\u001b[0m \u001b[0mddof\u001b[0m \u001b[1;32mis\u001b[0m \u001b[1;32mNone\u001b[0m\u001b[1;33m:\u001b[0m\u001b[1;33m\u001b[0m\u001b[0m\n",
      "\u001b[1;31mValueError\u001b[0m: all the input array dimensions except for the concatenation axis must match exactly"
     ]
    }
   ],
   "source": [
    "# proc 4.\n",
    "import math\n",
    "from sklearn.metrics import jaccard_similarity_score\n",
    "from scipy.spatial import distance\n",
    "from scipy.stats.stats import pearsonr\n",
    "\n",
    "np.seterr(divide='ignore', invalid='ignore')\n",
    "dane = pd.read_csv('C:\\\\Users\\\\mateusz\\\\Desktop\\\\wyg.dane_aktywnosc.csv')\n",
    "dane = dane.groupby(['klientid', 'produktid'])['zdarzenie'].sum().reset_index()\n",
    "ramkadanych = pd.DataFrame(np.zeros(shape=(80,264)),\n",
    "                             columns=dane['produktid'].unique(),\n",
    "                             index=dane['klientid'].unique())\n",
    "danedf = pd.DataFrame(dane, columns = ['klientid','produktid','zdarzenie'],dtype = int)\n",
    "Ramkad = danedf.pivot(index = 'klientid', columns ='produktid', values = 'zdarzenie').fillna(0)\n",
    "Ramkad.head(15)\n",
    "klienci1 = np.array([1, 2, 3, 4, 5, 6, 7, 8, 9, 10])\n",
    "klienci2 = np.array([1,4,5,2,34,3,2,4,2,1])\n",
    "def Podobienstwo(docelowy,wybranyKlient):\n",
    "    normalizacja=[]\n",
    "    for x in range(len(wybranyKlient)):\n",
    "        u = wybranyKlient[x-1]\n",
    "        w1 = np.corrcoef(docelowy,wybranyKlient)[0, 1]           \n",
    "        w2 = jaccard_similarity_score(docelowy,u)[0][1] \n",
    "        norm = (w1*w2)\n",
    "        normalizacja.append(norm)\n",
    "        normalizacja = [0.0 if math.isnan(x) else x for x in normalizacja]\n",
    "    return sum(normalizacja)\n",
    "\n",
    "Podobienstwo(targetUser,selectedU)"
   ]
  },
  {
   "cell_type": "code",
   "execution_count": null,
   "metadata": {},
   "outputs": [],
   "source": []
  }
 ],
 "metadata": {
  "kernelspec": {
   "display_name": "Python 3",
   "language": "python",
   "name": "python3"
  },
  "language_info": {
   "codemirror_mode": {
    "name": "ipython",
    "version": 3
   },
   "file_extension": ".py",
   "mimetype": "text/x-python",
   "name": "python",
   "nbconvert_exporter": "python",
   "pygments_lexer": "ipython3",
   "version": "3.6.4"
  }
 },
 "nbformat": 4,
 "nbformat_minor": 2
}
